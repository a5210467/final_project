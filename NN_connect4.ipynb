{
 "cells": [
  {
   "cell_type": "code",
   "execution_count": 2,
   "id": "30d219d8",
   "metadata": {},
   "outputs": [],
   "source": [
    "import numpy as np\n",
    "import matplotlib.pyplot as pt\n",
    "import torch as tr"
   ]
  },
  {
   "cell_type": "code",
   "execution_count": 3,
   "id": "ed152f6b",
   "metadata": {},
   "outputs": [],
   "source": [
    "class Scorer:\n",
    "    def __init__(self, contig):\n",
    "        self.contig = contig\n",
    "        self.conv2d = tr.nn.Conv2d(1, 4, contig, padding='same', bias=False)\n",
    "        self.conv2d.requires_grad_(False)\n",
    "\n",
    "        self.conv2d.weight[:] = 0\n",
    "        self.conv2d.weight[0,0,0,:contig] = 1\n",
    "        self.conv2d.weight[1,0,:contig,0] = 1\n",
    "        self.conv2d.weight[2,0,:contig,:contig] += tr.eye(contig)\n",
    "        self.conv2d.weight[3,0,:contig,:contig] += tr.rot90(tr.eye(contig))\n",
    "\n",
    "    def check(self, board):\n",
    "        board = board.reshape(-1, *board.shape[-2:]) # insert channel dim\n",
    "        result = self.conv2d(board)\n",
    "        #print(result)\n",
    "        floored = tr.div(result, self.contig, rounding_mode='trunc')\n",
    "        winner = floored.max() + floored.min() # -1, 0, +1 for lose, draw, win\n",
    "        return winner"
   ]
  },
  {
   "cell_type": "code",
   "execution_count": 4,
   "id": "935899de",
   "metadata": {},
   "outputs": [],
   "source": [
    "scorer = Scorer(4)"
   ]
  },
  {
   "cell_type": "code",
   "execution_count": 5,
   "id": "5364ec50",
   "metadata": {},
   "outputs": [
    {
     "name": "stdout",
     "output_type": "stream",
     "text": [
      "tensor([[0., 0., 0., 0., 0., 0., 0.],\n",
      "        [0., 0., 0., 0., 0., 0., 0.],\n",
      "        [0., 0., 0., 0., 0., 0., 0.],\n",
      "        [0., 0., 0., 0., 0., 0., 0.],\n",
      "        [0., 0., 0., 0., 0., 0., 0.],\n",
      "        [0., 0., 0., 0., 0., 0., 0.]])\n"
     ]
    }
   ],
   "source": [
    "board = tr.zeros(6,7)\n",
    "print(board)"
   ]
  },
  {
   "cell_type": "code",
   "execution_count": 1,
   "id": "099e4b29",
   "metadata": {},
   "outputs": [
    {
     "ename": "NameError",
     "evalue": "name 'scorer' is not defined",
     "output_type": "error",
     "traceback": [
      "\u001b[0;31m---------------------------------------------------------------------------\u001b[0m",
      "\u001b[0;31mNameError\u001b[0m                                 Traceback (most recent call last)",
      "Input \u001b[0;32mIn [1]\u001b[0m, in \u001b[0;36m<cell line: 1>\u001b[0;34m()\u001b[0m\n\u001b[0;32m----> 1\u001b[0m \u001b[38;5;28mprint\u001b[39m(\u001b[43mscorer\u001b[49m\u001b[38;5;241m.\u001b[39mcheck(board))\n",
      "\u001b[0;31mNameError\u001b[0m: name 'scorer' is not defined"
     ]
    }
   ],
   "source": [
    "print(scorer.check(board))"
   ]
  },
  {
   "cell_type": "code",
   "execution_count": null,
   "id": "f82d3c03",
   "metadata": {},
   "outputs": [],
   "source": []
  }
 ],
 "metadata": {
  "kernelspec": {
   "display_name": "Python 3 (ipykernel)",
   "language": "python",
   "name": "python3"
  },
  "language_info": {
   "codemirror_mode": {
    "name": "ipython",
    "version": 3
   },
   "file_extension": ".py",
   "mimetype": "text/x-python",
   "name": "python",
   "nbconvert_exporter": "python",
   "pygments_lexer": "ipython3",
   "version": "3.9.12"
  }
 },
 "nbformat": 4,
 "nbformat_minor": 5
}
