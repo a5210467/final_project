{
 "cells": [
  {
   "cell_type": "code",
   "execution_count": 3,
   "id": "0f87b6fd",
   "metadata": {},
   "outputs": [],
   "source": [
    "import numpy as np\n",
    "from matplotlib import pyplot as plt"
   ]
  },
  {
   "cell_type": "code",
   "execution_count": 4,
   "id": "6328041a",
   "metadata": {},
   "outputs": [],
   "source": [
    "array_1 = np.array([27425, 47323, 91396, 118998, 159259, 215511, 240187, 257393, 273334, 275949, 285088, 286356, 289838, 354088, 355595, 357613, 406875, 426880, 480679, 506595, 524233, 555608, 594726, 596499, 633553, 660087, 683323, 699823, 701956, 705520, 725160, 739079, 804844, 809812, 829620, 903494, 906349, 929751, 985976, 1053383, 1105358, 1112845, 1141228, 1185522, 1228307, 1242789, 1274174, 1280998, 1285391, 1312894, 1370159, 1395186, 1472848, 1535631, 1548040, 1551848, 1568318, 1571250, 1618856, 1636448, 1677626, 1697341, 1700526, 1726103, 1751783, 1853262, 1868373, 1883372, 1912054, 1934912, 1944191, 1986032, 1990286, 2045099, 2102885, 2105615, 2108062, 2156130, 2172320, 2215851, 2256068, 2305623, 2308189, 2330808, 2350101, 2392954, 2395739, 2453821, 2472069, 2494821, 2555998, 2574895, 2658443, 2705722, 2709806, 2764356, 2784900, 2841450, 2849832, 2891318])"
   ]
  },
  {
   "cell_type": "code",
   "execution_count": 7,
   "id": "f84e2ec7",
   "metadata": {},
   "outputs": [
    {
     "data": {
      "text/plain": [
       "array([  27425,   47323,   91396,  118998,  159259,  215511,  240187,\n",
       "        257393,  273334,  275949,  285088,  286356,  289838,  354088,\n",
       "        355595,  357613,  406875,  426880,  480679,  506595,  524233,\n",
       "        555608,  594726,  596499,  633553,  660087,  683323,  699823,\n",
       "        701956,  705520,  725160,  739079,  804844,  809812,  829620,\n",
       "        903494,  906349,  929751,  985976, 1053383, 1105358, 1112845,\n",
       "       1141228, 1185522, 1228307, 1242789, 1274174, 1280998, 1285391,\n",
       "       1312894, 1370159, 1395186, 1472848, 1535631, 1548040, 1551848,\n",
       "       1568318, 1571250, 1618856, 1636448, 1677626, 1697341, 1700526,\n",
       "       1726103, 1751783, 1853262, 1868373, 1883372, 1912054, 1934912,\n",
       "       1944191, 1986032, 1990286, 2045099, 2102885, 2105615, 2108062,\n",
       "       2156130, 2172320, 2215851, 2256068, 2305623, 2308189, 2330808,\n",
       "       2350101, 2392954, 2395739, 2453821, 2472069, 2494821, 2555998,\n",
       "       2574895, 2658443, 2705722, 2709806, 2764356, 2784900, 2841450,\n",
       "       2849832, 2891318])"
      ]
     },
     "execution_count": 7,
     "metadata": {},
     "output_type": "execute_result"
    }
   ],
   "source": [
    "array_1"
   ]
  },
  {
   "cell_type": "code",
   "execution_count": 28,
   "id": "24b393a6",
   "metadata": {},
   "outputs": [
    {
     "name": "stdout",
     "output_type": "stream",
     "text": [
      "41486\n",
      "8382\n",
      "56550\n",
      "20544\n",
      "54550\n",
      "4084\n",
      "47279\n",
      "83548\n",
      "18897\n",
      "61177\n",
      "22752\n",
      "18248\n",
      "58082\n",
      "2785\n",
      "42853\n",
      "19293\n",
      "22619\n",
      "2566\n",
      "49555\n",
      "40217\n",
      "43531\n",
      "16190\n",
      "48068\n",
      "2447\n",
      "2730\n",
      "57786\n",
      "54813\n",
      "4254\n",
      "41841\n",
      "9279\n",
      "22858\n",
      "28682\n",
      "14999\n",
      "15111\n",
      "101479\n",
      "25680\n",
      "25577\n",
      "3185\n",
      "19715\n",
      "41178\n",
      "17592\n",
      "47606\n",
      "2932\n",
      "16470\n",
      "3808\n",
      "12409\n",
      "62783\n",
      "77662\n",
      "25027\n",
      "57265\n",
      "27503\n",
      "4393\n",
      "6824\n",
      "31385\n",
      "14482\n",
      "42785\n",
      "44294\n",
      "28383\n",
      "7487\n",
      "51975\n",
      "67407\n",
      "56225\n",
      "23402\n",
      "2855\n",
      "73874\n",
      "19808\n",
      "4968\n",
      "65765\n",
      "13919\n",
      "19640\n",
      "3564\n",
      "2133\n",
      "16500\n",
      "23236\n",
      "26534\n",
      "37054\n",
      "1773\n",
      "39118\n",
      "31375\n",
      "17638\n",
      "25916\n",
      "53799\n",
      "20005\n",
      "49262\n",
      "2018\n",
      "1507\n",
      "64250\n",
      "3482\n",
      "1268\n",
      "9139\n",
      "2615\n",
      "15941\n",
      "17206\n",
      "24676\n",
      "56252\n",
      "40261\n",
      "27602\n",
      "44073\n",
      "19898\n"
     ]
    }
   ],
   "source": [
    "array_2 = []\n",
    "for i in range(array_1.size - 1):\n",
    "    #print(array_1[i])\n",
    "    array_2.append(array_1[array_1.size - 1 - i] - array_1[array_1.size - 1 -i -1])\n",
    "    print(array_1[array_1.size - 1 - i] - array_1[array_1.size - 1 -i -1])\n",
    "array_2.append(array_1[0])"
   ]
  },
  {
   "cell_type": "code",
   "execution_count": 17,
   "id": "efbc195c",
   "metadata": {},
   "outputs": [],
   "source": [
    "array_2.reverse()"
   ]
  },
  {
   "cell_type": "code",
   "execution_count": 19,
   "id": "e232c8cf",
   "metadata": {},
   "outputs": [],
   "source": [
    "array_2 = np.array(array_2)"
   ]
  },
  {
   "cell_type": "code",
   "execution_count": 20,
   "id": "77634484",
   "metadata": {},
   "outputs": [
    {
     "data": {
      "image/png": "[encoded data removed]",
      "text/plain": [
       "<Figure size 432x288 with 1 Axes>"
      ]
     },
     "metadata": {
      "needs_background": "light"
     },
     "output_type": "display_data"
    }
   ],
   "source": [
    "plt.hist(array_2)\n",
    "plt.title(\"row = 6, col =7\")\n",
    "plt.show()"
   ]
  },
  {
   "cell_type": "code",
   "execution_count": 22,
   "id": "1b35be31",
   "metadata": {},
   "outputs": [],
   "source": [
    "array_3 = np.array([28763, 47731, 112319, 144131, 246664, 273769, 295711, 310077, 340046, 349595, 423817, 453347, 462341, 519856, 539773, 571437, 618230, 670166, 732148, 755512, 756960, 827823, 931024, 1001532, 1048567, 1052061, 1120193, 1182094, 1201653, 1205764, 1259161, 1279187, 1304528, 1308003, 1358532, 1365679, 1390295, 1411873, 1434851, 1465004, 1509730, 1539120, 1620439, 1645707, 1687636, 1734926, 1754550, 1759503, 1804409, 1861775, 1882949, 1931782, 1938433, 1998113, 2044041, 2095882, 2163195, 2195566, 2207541, 2271039, 2276010, 2307176, 2308497, 2313227, 2338078, 2370636, 2432861, 2451953, 2474889, 2514187, 2566573, 2568783, 2615471, 2637918, 2723050, 2727143, 2748817, 2770175, 2803491, 2872509, 2929880, 2954744, 2956231, 3003652, 3005235, 3069006, 3075563, 3080370, 3097543, 3119420, 3324575, 3366386, 3369446, 3442338, 3467097, 3500412, 3501708, 3504277, 3526799, 3556972])"
   ]
  },
  {
   "cell_type": "code",
   "execution_count": 23,
   "id": "7671ad45",
   "metadata": {},
   "outputs": [
    {
     "name": "stdout",
     "output_type": "stream",
     "text": [
      "30173\n",
      "22522\n",
      "2569\n",
      "1296\n",
      "33315\n",
      "24759\n",
      "72892\n",
      "3060\n",
      "41811\n",
      "205155\n",
      "21877\n",
      "17173\n",
      "4807\n",
      "6557\n",
      "63771\n",
      "1583\n",
      "47421\n",
      "1487\n",
      "24864\n",
      "57371\n",
      "69018\n",
      "33316\n",
      "21358\n",
      "21674\n",
      "4093\n",
      "85132\n",
      "22447\n",
      "46688\n",
      "2210\n",
      "52386\n",
      "39298\n",
      "22936\n",
      "19092\n",
      "62225\n",
      "32558\n",
      "24851\n",
      "4730\n",
      "1321\n",
      "31166\n",
      "4971\n",
      "63498\n",
      "11975\n",
      "32371\n",
      "67313\n",
      "51841\n",
      "45928\n",
      "59680\n",
      "6651\n",
      "48833\n",
      "21174\n",
      "57366\n",
      "44906\n",
      "4953\n",
      "19624\n",
      "47290\n",
      "41929\n",
      "25268\n",
      "81319\n",
      "29390\n",
      "44726\n",
      "30153\n",
      "22978\n",
      "21578\n",
      "24616\n",
      "7147\n",
      "50529\n",
      "3475\n",
      "25341\n",
      "20026\n",
      "53397\n",
      "4111\n",
      "19559\n",
      "61901\n",
      "68132\n",
      "3494\n",
      "47035\n",
      "70508\n",
      "103201\n",
      "70863\n",
      "1448\n",
      "23364\n",
      "61982\n",
      "51936\n",
      "46793\n",
      "31664\n",
      "19917\n",
      "57515\n",
      "8994\n",
      "29530\n",
      "74222\n",
      "9549\n",
      "29969\n",
      "14366\n",
      "21942\n",
      "27105\n",
      "102533\n",
      "31812\n",
      "64588\n",
      "18968\n"
     ]
    }
   ],
   "source": [
    "array_4 = []\n",
    "for i in range(array_3.size - 1):\n",
    "    #print(array_1[i])\n",
    "    array_4.append(array_3[array_3.size - 1 - i] - array_3[array_3.size - 1 -i -1])\n",
    "    print(array_3[array_3.size - 1 - i] - array_3[array_3.size - 1 -i -1])\n",
    "array_4.append(array_3[0])"
   ]
  },
  {
   "cell_type": "code",
   "execution_count": 25,
   "id": "95f0c350",
   "metadata": {},
   "outputs": [],
   "source": [
    "array_4.reverse()"
   ]
  },
  {
   "cell_type": "code",
   "execution_count": 26,
   "id": "b8ad39f3",
   "metadata": {},
   "outputs": [],
   "source": [
    "array_4 = np.array(array_4)"
   ]
  },
  {
   "cell_type": "code",
   "execution_count": 27,
   "id": "f7e0f15b",
   "metadata": {},
   "outputs": [
    {
     "data": {
      "image/png": "[encoded data removed]",
      "text/plain": [
       "<Figure size 432x288 with 1 Axes>"
      ]
     },
     "metadata": {
      "needs_background": "light"
     },
     "output_type": "display_data"
    }
   ],
   "source": [
    "plt.hist(array_4)\n",
    "plt.title(\"row = 7, col =6\")\n",
    "plt.show()"
   ]
  },
  {
   "cell_type": "code",
   "execution_count": 29,
   "id": "d19a8bbe",
   "metadata": {},
   "outputs": [],
   "source": [
    "array_1 = np.array([18491, 35236, 48703, 78939, 84087, 91914, 95262, 116957, 123630, 164536, 207460, 219560, 230777, 234070, 256355, 292326, 297453, 307330, 344547, 387593, 389004, 411752, 448219, 457878, 460027, 465961, 508542, 560285, 580240, 583853, 585338, 606070, 649004, 685433, 717647, 753903, 793840, 796882, 798065, 800039, 820531, 865153, 907594, 1010239, 1021922, 1102084, 1109901, 1119289, 1126823, 1153354, 1195716, 1268807, 1282041, 1336312, 1357658, 1359267, 1361757, 1365729, 1377681, 1421005, 1431358, 1442043, 1453134, 1502130, 1506237, 1513249, 1524828, 1561110, 1598121, 1599766, 1689546, 1729772, 1774565, 1823330, 1832205, 1839290, 1855087, 1860430, 1901864, 2013204, 2056619, 2097989, 2109092, 2120883, 2122545, 2134815, 2216914, 2256222, 2262777, 2264073, 2265053, 2272060, 2273958, 2289137, 2407689, 2417681, 2418946, 2441470, 2478248, 2533180])"
   ]
  },
  {
   "cell_type": "code",
   "execution_count": 30,
   "id": "12170788",
   "metadata": {},
   "outputs": [
    {
     "data": {
      "image/png": "[encoded data removed]",
      "text/plain": [
       "<Figure size 432x288 with 1 Axes>"
      ]
     },
     "metadata": {
      "needs_background": "light"
     },
     "output_type": "display_data"
    }
   ],
   "source": [
    "array_2 = []\n",
    "for i in range(array_1.size - 1):\n",
    "    #print(array_1[i])\n",
    "    array_2.append(array_1[array_1.size - 1 - i] - array_1[array_1.size - 1 -i -1])\n",
    "    #print(array_1[array_1.size - 1 - i] - array_1[array_1.size - 1 -i -1])\n",
    "array_2.append(array_1[0])\n",
    "array_2.reverse()\n",
    "array_2 = np.array(array_2)\n",
    "plt.hist(array_2)\n",
    "plt.title(\"row = 6, col =8\")\n",
    "plt.show()"
   ]
  },
  {
   "cell_type": "code",
   "execution_count": 31,
   "id": "bfc2f848",
   "metadata": {},
   "outputs": [],
   "source": [
    "array_1 = np.array([29505, 85552, 147090, 267056, 268689, 271386, 295581, 354567, 356075, 377336, 394119, 435308, 479702, 499023, 529880, 569397, 595209, 599378, 617394, 643612, 708712, 724625, 775945, 833441, 878399, 882162, 927053, 951127, 953536, 957893, 1009464, 1011095, 1042402, 1105065, 1133521, 1176459, 1181080, 1209184, 1220048, 1221027, 1237516, 1254896, 1256744, 1279920, 1283917, 1289852, 1291652, 1310719, 1341809, 1344618, 1348392, 1373103, 1394082, 1424075, 1488752, 1509609, 1518792, 1538512, 1563937, 1570292, 1575460, 1595471, 1615979, 1618293, 1665322, 1666841, 1714175, 1729688, 1733651, 1791318, 1811693, 1842340, 1910685, 1954043, 1956911, 1959194, 2002680, 2009025, 2013700, 2042530, 2104546, 2107531, 2176285, 2179452, 2206242, 2247127, 2263821, 2305103, 2347576, 2384024, 2400772, 2411112, 2417413, 2533484, 2553623, 2555985, 2574450, 2593953, 2644214, 2647475])"
   ]
  },
  {
   "cell_type": "code",
   "execution_count": 33,
   "id": "8261c7a8",
   "metadata": {},
   "outputs": [
    {
     "data": {
      "image/png": "[encoded data removed]",
      "text/plain": [
       "<Figure size 432x288 with 1 Axes>"
      ]
     },
     "metadata": {
      "needs_background": "light"
     },
     "output_type": "display_data"
    }
   ],
   "source": [
    "array_2 = []\n",
    "for i in range(array_1.size - 1):\n",
    "    #print(array_1[i])\n",
    "    array_2.append(array_1[array_1.size - 1 - i] - array_1[array_1.size - 1 -i -1])\n",
    "    #print(array_1[array_1.size - 1 - i] - array_1[array_1.size - 1 -i -1])\n",
    "array_2.append(array_1[0])\n",
    "array_2.reverse()\n",
    "array_2 = np.array(array_2)\n",
    "plt.hist(array_2)\n",
    "plt.title(\"row = 8, col =6\")\n",
    "plt.show()"
   ]
  },
  {
   "cell_type": "code",
   "execution_count": 34,
   "id": "15b3ca82",
   "metadata": {},
   "outputs": [],
   "source": [
    "array_1 = np.array([21815, 65807, 148785, 190787, 228347, 276342, 299484, 316579, 319551, 355417, 355930, 387703, 402406, 437605, 444287, 502211, 525917, 532688, 552113, 564862, 596839, 611657, 613568, 650684, 666787, 673837, 678673, 689425, 695821, 753404, 754886, 756433, 799289, 835672, 881895, 924146, 952675, 957715, 963781, 970449, 1010967, 1014533, 1042025, 1043584, 1081597, 1125714, 1164939, 1232212, 1244756, 1258534, 1263495, 1275863, 1278718, 1284094, 1332799, 1337322, 1347269, 1348214, 1362962, 1376113, 1417267, 1418534, 1423917, 1432321, 1439048, 1442118, 1514712, 1552732, 1554034, 1573551, 1579158, 1580315, 1603284, 1607778, 1624208, 1659357, 1660490, 1679974, 1681698, 1704762, 1738657, 1802383, 1805564, 1835766, 1868652, 1872770, 1874136, 1875043, 1913396, 1915565, 1956684, 1958572, 1968457, 2020583, 2022164, 2070209, 2074649, 2076797, 2116164, 2148404])"
   ]
  },
  {
   "cell_type": "code",
   "execution_count": 36,
   "id": "efc36fc5",
   "metadata": {},
   "outputs": [
    {
     "data": {
      "image/png": "[encoded data removed]",
      "text/plain": [
       "<Figure size 432x288 with 1 Axes>"
      ]
     },
     "metadata": {
      "needs_background": "light"
     },
     "output_type": "display_data"
    }
   ],
   "source": [
    "array_2 = []\n",
    "for i in range(array_1.size - 1):\n",
    "    #print(array_1[i])\n",
    "    array_2.append(array_1[array_1.size - 1 - i] - array_1[array_1.size - 1 -i -1])\n",
    "    #print(array_1[array_1.size - 1 - i] - array_1[array_1.size - 1 -i -1])\n",
    "array_2.append(array_1[0])\n",
    "array_2.reverse()\n",
    "array_2 = np.array(array_2)\n",
    "plt.hist(array_2)\n",
    "plt.title(\"row = 7, col =8\")\n",
    "plt.show()"
   ]
  },
  {
   "cell_type": "code",
   "execution_count": 45,
   "id": "5ab22137",
   "metadata": {},
   "outputs": [],
   "source": [
    "array_1 = np.array([5, 10, 0, 5, -5, 0, 5, 20, 5, 10, 5, -10, 20, 0, -10, 20, 10, 10, 0, 10, 20, 5, 0, 10, 10, 5, 10, 10, 10, 10, 10, 5, 0, 10, 10, 10, 10, 5, 0, 0, 0, 10, -20, 0, 0, 10, -10, 5, -20, 20, 0, 10, 0, 0, -5, 10, 10, 5, 5, 10, 0, 10, 5, 10, 5, 0, 10, 10, 5, 10, 5, 20, -10, 0, 0, 20, 20, 0, 10, 0, 0, 0, 20, 20, 20, 0, 20, 10, 10, 5, 5, 5, 0, 0, -5, 0, 5, 0, 10, 0])"
   ]
  },
  {
   "cell_type": "code",
   "execution_count": 47,
   "id": "48ef0ab1",
   "metadata": {},
   "outputs": [
    {
     "data": {
      "image/png": "[encoded data removed]",
      "text/plain": [
       "<Figure size 432x288 with 1 Axes>"
      ]
     },
     "metadata": {
      "needs_background": "light"
     },
     "output_type": "display_data"
    }
   ],
   "source": [
    "plt.hist(array_1,bins = [-30,-20,-10,0,10,20,30])\n",
    "plt.title(\"row = 6, col =7\")\n",
    "plt.show()"
   ]
  },
  {
   "cell_type": "code",
   "execution_count": 48,
   "id": "41c607d5",
   "metadata": {},
   "outputs": [],
   "source": [
    "array_1 = np.array([10, 20, 0, 10, 0, 10, 10, 5, 20, -5, 0, 5, 10, 0, 5, 10, 0, 20, 10, 10, -20, 10, 0, 0, 0, 20, 0, 10, 10, 10, 0, 10, 10, 5, 0, 10, 10, 10, 10, 20, 0, 5, 10, 10, 0, 0, 5, 10, 0, 5, 5, 0, 10, 0, -5, 0, 0, 5, 5, -10, 10, 10, 10, 5, 10, 5, 0, 10, 10, 5, 0, -10, 5, 10, 0, 20, 10, -5, 10, 0, 0, 5, -10, 0, 20, 0, 5, 5, 5, 10, 0, -10, -10, -20, 10, 5, -10, 10, 5, 10])"
   ]
  },
  {
   "cell_type": "code",
   "execution_count": 49,
   "id": "862082ca",
   "metadata": {},
   "outputs": [
    {
     "data": {
      "image/png": "[encoded data removed]",
      "text/plain": [
       "<Figure size 432x288 with 1 Axes>"
      ]
     },
     "metadata": {
      "needs_background": "light"
     },
     "output_type": "display_data"
    }
   ],
   "source": [
    "plt.hist(array_1,bins = [-30,-20,-10,0,10,20,30])\n",
    "plt.title(\"row = 6, col =7\")\n",
    "plt.show()"
   ]
  },
  {
   "cell_type": "code",
   "execution_count": 50,
   "id": "714692c8",
   "metadata": {},
   "outputs": [],
   "source": [
    "array_1 = np.array([5, 10, 20, 5, 20, 10, 5, 5, 10, 0, 10, 10, 5, -10, 5, 0, 10, 10, 20, 20, 20, 5, 0, 10, 10, 10, 5, 5, 5, 5, -20, 10, 0, -5, 0, 0, 0, 5, -10, 10, 5, 0, 0, 0, 10, 5, 10, 20, -10, 5, 10, 0, 10, -10, 10, 10, 5, 10, 10, 0, 20, 10, 10, -5, -10, 10, 10, -5, 0, 5, 0, 0, 0, 10, 20, 10, 10, 10, 5, -10, 0, 20, 10, 20, 10, 10, 0, 5, 5, 20, 20, -10, 10, 10, 0, 10, 10, 10, 0, -10])"
   ]
  },
  {
   "cell_type": "code",
   "execution_count": 51,
   "id": "a7df98e2",
   "metadata": {},
   "outputs": [
    {
     "data": {
      "image/png": "[encoded data removed]",
      "text/plain": [
       "<Figure size 432x288 with 1 Axes>"
      ]
     },
     "metadata": {
      "needs_background": "light"
     },
     "output_type": "display_data"
    }
   ],
   "source": [
    "plt.hist(array_1,bins = [-30,-20,-10,0,10,20,30])\n",
    "plt.title(\"row = 6, col =8\")\n",
    "plt.show()"
   ]
  },
  {
   "cell_type": "code",
   "execution_count": 52,
   "id": "082acf9b",
   "metadata": {},
   "outputs": [],
   "source": [
    "array_1 = np.array([20, 0, 0, 0, 10, -20, 10, 0, -10, 20, 10, 10, 0, 10, 5, 0, 10, 10, 10, 5, 10, 10, 0, 0, -5, -20, 5, 5, 10, -5, 0, 10, 10, 0, 10, 0, 5, 10, 10, -20, 10, 10, 10, 5, -5, 20, 5, 10, 5, -10, 10, 10, 5, 5, 5, 5, 10, 10, 10, 5, 10, 10, 10, -10, 0, 20, 5, 5, 10, 0, 10, 10, 0, 0, 10, -10, 0, -10, -5, 20, 0, 10, 0, 20, 10, 10, 20, 5, 10, 5, 10, 10, 5, 10, 10, 10, 10, 10, 20, 10])"
   ]
  },
  {
   "cell_type": "code",
   "execution_count": 54,
   "id": "3c123934",
   "metadata": {},
   "outputs": [
    {
     "data": {
      "image/png": "[encoded data removed]",
      "text/plain": [
       "<Figure size 432x288 with 1 Axes>"
      ]
     },
     "metadata": {
      "needs_background": "light"
     },
     "output_type": "display_data"
    }
   ],
   "source": [
    "plt.hist(array_1,bins = [-30,-20,-10,0,10,20,30])\n",
    "plt.title(\"row = 8, col =6\")\n",
    "plt.show()"
   ]
  },
  {
   "cell_type": "code",
   "execution_count": 55,
   "id": "4d95b6a3",
   "metadata": {},
   "outputs": [],
   "source": [
    "array_1 = np.array([10, 10, 0, 10, 0, 10, 5, -10, 10, 0, 10, 10, -10, 10, 20, 10, 5, 10, 5, 10, 0, 10, 5, 10, 10, 10, 10, 10, 10, 0, -10, 5, 10, 0, 20, 0, 0, 10, 10, 10, 0, 5, 0, -10, 20, 0, 0, 0, 10, 5, 10, 10, -10, 10, 0, 5, 10, -20, 10, 10, 0, 10, 10, 10, -5, 10, 0, 0, 10, 5, 10, -10, 5, 20, 10, 5, 5, 5, -10, 10, 10, 0, 10, 0, 0, 5, -20, 10, 0, 5, 0, 10, 10, -10, 20, 10, 20, 5, 20, 0])"
   ]
  },
  {
   "cell_type": "code",
   "execution_count": 56,
   "id": "071a1a02",
   "metadata": {},
   "outputs": [
    {
     "data": {
      "image/png": "[encoded data removed]",
      "text/plain": [
       "<Figure size 432x288 with 1 Axes>"
      ]
     },
     "metadata": {
      "needs_background": "light"
     },
     "output_type": "display_data"
    }
   ],
   "source": [
    "plt.hist(array_1,bins = [-30,-20,-10,0,10,20,30])\n",
    "plt.title(\"row = 7, col =8\")\n",
    "plt.show()"
   ]
  },
  {
   "cell_type": "code",
   "execution_count": 57,
   "id": "68d0243f",
   "metadata": {},
   "outputs": [],
   "source": [
    "array_1 = np.array([3774, 1405, 2409, 2810, 1686, 2529, 1686, 3573, 1967, 2810, 2248, 2529, 2891, 2690, 3454, 2810, 4377, 2810, 1405, 2529, 1686, 1124, 2449, 2529, 1405, 3091, 1686, 3977, 3814, 3091, 843, 2971, 2810, 2810, 2810, 2248, 1967, 2248, 1967, 2248, 2529, 3613, 2529, 2529, 1686, 1967, 4217, 3212, 3091, 562, 1405, 3252, 2529, 1124, 1967, 2248, 1124, 1967, 3613, 2529, 2730, 1405, 1405, 3132, 1686, 3333, 1124, 1887, 4260, 3332, 1405, 1967, 3815, 1124, 1405, 2971, 3172, 843, 2690, 2248, 2248, 1405, 2529, 2329, 2529, 3051, 2248, 2810, 1124, 3976, 3975, 1405, 1686, 2248, 4095, 1686, 1405, 1967, 3372, 2248])"
   ]
  },
  {
   "cell_type": "code",
   "execution_count": 58,
   "id": "7cef066e",
   "metadata": {},
   "outputs": [
    {
     "data": {
      "image/png": "[encoded data removed]",
      "text/plain": [
       "<Figure size 432x288 with 1 Axes>"
      ]
     },
     "metadata": {
      "needs_background": "light"
     },
     "output_type": "display_data"
    }
   ],
   "source": [
    "plt.hist(array_1)\n",
    "plt.title(\"row = 6, col =7\")\n",
    "plt.show()"
   ]
  },
  {
   "cell_type": "code",
   "execution_count": 59,
   "id": "fc7e9d97",
   "metadata": {},
   "outputs": [],
   "source": [
    "array_1 = np.array([5, 10, 5, 5, -5, -5, 5, 5, 5, -5, -5, 5, -20, 5, -5, 5, 5, -10, -10, 5, 5, -5, -5, -10, 20, 5, 5, 5, 5, 5, -10, -5, 5, -5, 5, 5, 5, 5, 5, 5, 5, 5, 5, 5, -10, 5, 5, -5, 5, -20, 5, 5, 5, 10, 5, 5, 5, -5, -5, -10, -20, 5, 10, 5, 10, 5, -5, -20, 20, 5, 5, 5, 5, 10, 5, 5, 5, -20, 5, 5, 5, -10, -10, -20, 5, 5, 5, 5, 10, -5, 5, -10, 5, 5, 5, -5, 5, -20, 5, -10])"
   ]
  },
  {
   "cell_type": "code",
   "execution_count": 60,
   "id": "d6ed55fb",
   "metadata": {},
   "outputs": [
    {
     "data": {
      "image/png": "[encoded data removed]",
      "text/plain": [
       "<Figure size 432x288 with 1 Axes>"
      ]
     },
     "metadata": {
      "needs_background": "light"
     },
     "output_type": "display_data"
    }
   ],
   "source": [
    "plt.hist(array_1,bins = [-30,-20,-10,0,10,20,30])\n",
    "plt.title(\"row = 6, col =7\")\n",
    "plt.show()"
   ]
  },
  {
   "cell_type": "code",
   "execution_count": null,
   "id": "01aba7d6",
   "metadata": {},
   "outputs": [],
   "source": []
  }
 ],
 "metadata": {
  "kernelspec": {
   "display_name": "Python 3 (ipykernel)",
   "language": "python",
   "name": "python3"
  },
  "language_info": {
   "codemirror_mode": {
    "name": "ipython",
    "version": 3
   },
   "file_extension": ".py",
   "mimetype": "text/x-python",
   "name": "python",
   "nbconvert_exporter": "python",
   "pygments_lexer": "ipython3",
   "version": "3.9.12"
  }
 },
 "nbformat": 4,
 "nbformat_minor": 5
}
